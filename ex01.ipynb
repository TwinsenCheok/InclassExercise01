{
 "cells": [
  {
   "cell_type": "markdown",
   "metadata": {},
   "source": [
    "Exercise 1\n",
    "Create a program that asks the user to enter their name and their age. Print out a message addressed to them that tells them the year that they will turn 100 years old.\n",
    "\n",
    "Extras:\n",
    "\n",
    "Add on to the previous program by asking the user for another number and printing out that many copies of the previous message. (Hint: order of operations exists in Python)\n",
    "Print out that many copies of the previous message on separate lines. (Hint: the string \"\\n is the same as pressing the ENTER button)\n",
    "                                                                    "
   ]
  },
  {
   "cell_type": "code",
   "execution_count": null,
   "metadata": {},
   "outputs": [],
   "source": [
    "# fill your answer here\n",
    "# use \"input\" to get data from an interactive box, e.g., \n",
    "\n",
    "# FirstName = input('Please input your First Name: ')\n",
    "# print ()\n",
    "\n",
    "# LastName = input('Please input your Last Name: ')\n",
    "# print ()\n",
    "\n",
    "Name = input('Give me your name: ')\n",
    "\n",
    "Age = input('Please input your age: ')\n",
    "print ()\n",
    "\n",
    "To100Yr = 100-int(Age)\n",
    "\n",
    "import datetime\n",
    "\n",
    "age100= int (datetime.datetime.now().year)+To100Yr\n",
    "\n",
    "\n",
    "# print ('Hello', '', FirstName.title(), ' ', LastName.title())\n",
    "\n",
    "print ('Hello', '', Name.title())\n",
    "print ('Your Age is', Age)\n",
    "print ('You will be 100 year old on', age100, '.')\n",
    "print (\"\\n\")\n"
   ]
  },
  {
   "cell_type": "code",
   "execution_count": null,
   "metadata": {},
   "outputs": [],
   "source": []
  }
 ],
 "metadata": {
  "kernelspec": {
   "display_name": "Python 3",
   "language": "python",
   "name": "python3"
  },
  "language_info": {
   "codemirror_mode": {
    "name": "ipython",
    "version": 3
   },
   "file_extension": ".py",
   "mimetype": "text/x-python",
   "name": "python",
   "nbconvert_exporter": "python",
   "pygments_lexer": "ipython3",
   "version": "3.7.3"
  }
 },
 "nbformat": 4,
 "nbformat_minor": 2
}
