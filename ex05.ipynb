{
 "cells": [
  {
   "cell_type": "markdown",
   "metadata": {},
   "source": [
    "Exercise 5\n",
    "Take two lists, say for example these two:\n",
    "a = [1, 1, 2, 3, 5, 8, 13, 21, 34, 55, 89]\n",
    "b = [1, 2, 3, 4, 5, 6, 7, 8, 9, 10, 11, 12, 13]\n",
    "and write a program that returns a list that contains only the elements that are common between the lists (without duplicates). Make sure your program works on two lists of different sizes.\n",
    "\n",
    "Extras:\n",
    "\n",
    "Randomly generate two lists to test this (search \"random_list\" from Google)\n",
    "Write this in one line of Python (search \"intersection\" from Google)"
   ]
  },
  {
   "cell_type": "code",
   "execution_count": null,
   "metadata": {},
   "outputs": [],
   "source": [
    "#ex5\n",
    "a5 = [1, 1, 2, 3, 5, 8, 13, 21, 34, 55, 89]\n",
    "b5 = [1, 2, 3, 4, 5, 6, 7, 8, 9, 10, 11, 12, 13]\n",
    "c5 =[]\n",
    "\n",
    "for i in a5:\n",
    "    for j in b5:\n",
    "        if int(i)==int(j): c5.append(i)\n",
    "\n",
    "c5 = list(dict.fromkeys(c5))            \n",
    "\n",
    "print (c5)\n",
    "\n",
    "#Extras\n",
    "\n",
    "import random\n",
    "\n",
    "random1 = [random.randint(0,100) for i in range(11)]\n",
    "random2 = [random.randint(0,100) for i in range(13)]\n",
    "\n",
    "print ('First list of random numbers:', random1)\n",
    "print('Second list of Random numbers:', random2)\n",
    "\n",
    "def intersection(random1, random2): \n",
    "    random3 = [value for value in random1 if value in random2] \n",
    "    return random3 \n",
    "\n",
    "print (intersection(random1, random2)) if (intersection(random1, random2))!=[] else print ('No common number.')"
   ]
  },
  {
   "cell_type": "code",
   "execution_count": null,
   "metadata": {},
   "outputs": [],
   "source": []
  }
 ],
 "metadata": {
  "kernelspec": {
   "display_name": "Python 3",
   "language": "python",
   "name": "python3"
  },
  "language_info": {
   "codemirror_mode": {
    "name": "ipython",
    "version": 3
   },
   "file_extension": ".py",
   "mimetype": "text/x-python",
   "name": "python",
   "nbconvert_exporter": "python",
   "pygments_lexer": "ipython3",
   "version": "3.7.3"
  }
 },
 "nbformat": 4,
 "nbformat_minor": 2
}
