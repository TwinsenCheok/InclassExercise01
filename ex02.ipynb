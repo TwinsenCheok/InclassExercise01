{
 "cells": [
  {
   "cell_type": "markdown",
   "metadata": {},
   "source": [
    "Exercise 2\n",
    "Ask the user for a number. Depending on whether the number is even or odd, print out an appropriate message to the user. Hint: how does an even / odd number react differently when divided by 2?\n",
    "\n",
    "Extras:\n",
    "\n",
    "If the number is a multiple of 4, print out a different message.\n",
    "Ask the user for two numbers: one number to check (call it num) and one number to divide by (check). If check divides evenly into num, tell that to the user. If not, print a different appropriate message."
   ]
  },
  {
   "cell_type": "code",
   "execution_count": null,
   "metadata": {},
   "outputs": [],
   "source": [
    "#ex2\n",
    "number = int(input('Please input the integer: '))\n",
    "\n",
    "if number%4 == 0:\n",
    "    print ('The number is a multiple of 4.')\n",
    "elif (number%2) == 0:\n",
    "    print ('The nubmer is the even.')\n",
    "else: \n",
    "    print ('The number is the odd.')\n",
    "\n",
    "print('')\n",
    "num = int(input('Please input a new number (as NUMBER): '))\n",
    "check = int(input(\"Please input anohter nubmer (as CHECK)\"))\n",
    "\n",
    "print('Both nubmers are divide evenly.') if num%check==0 else print ('Both nubmers are NOT divide evenly.')\n",
    "\n"
   ]
  },
  {
   "cell_type": "code",
   "execution_count": null,
   "metadata": {},
   "outputs": [],
   "source": []
  }
 ],
 "metadata": {
  "kernelspec": {
   "display_name": "Python 3",
   "language": "python",
   "name": "python3"
  },
  "language_info": {
   "codemirror_mode": {
    "name": "ipython",
    "version": 3
   },
   "file_extension": ".py",
   "mimetype": "text/x-python",
   "name": "python",
   "nbconvert_exporter": "python",
   "pygments_lexer": "ipython3",
   "version": "3.7.3"
  }
 },
 "nbformat": 4,
 "nbformat_minor": 2
}
