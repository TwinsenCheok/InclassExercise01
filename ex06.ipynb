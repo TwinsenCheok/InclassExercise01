{
 "cells": [
  {
   "cell_type": "markdown",
   "metadata": {},
   "source": [
    "Exercise 6\n",
    "Ask the user for a string and print out whether this string is a palindrome or not.\n",
    "A palindrome is a string that reads the same forwards and backwards."
   ]
  },
  {
   "cell_type": "code",
   "execution_count": null,
   "metadata": {},
   "outputs": [],
   "source": [
    "#ex6\n",
    "\n",
    "words = input ('Please input on words: ')\n",
    "\n",
    "## Method 1: Use the string to check\n",
    "txt = words [::-1]\n",
    "\n",
    "\n",
    "print ('The words is palindrome.') if words==txt else print ('The words is NOT palindrome.')\n",
    "\n",
    "print ()\n",
    "\n",
    "## Method 2: Use the list to check\n",
    "wordslist = list(words)\n",
    "wordslist.reverse()\n",
    "\n",
    "palindrome = ''.join(wordslist)\n",
    "\n",
    "print (palindrome)\n",
    "print ('The words is palindrome.') if words==palindrome else print ('The words is NOT palindrome.')"
   ]
  },
  {
   "cell_type": "code",
   "execution_count": null,
   "metadata": {},
   "outputs": [],
   "source": []
  }
 ],
 "metadata": {
  "kernelspec": {
   "display_name": "Python 3",
   "language": "python",
   "name": "python3"
  },
  "language_info": {
   "codemirror_mode": {
    "name": "ipython",
    "version": 3
   },
   "file_extension": ".py",
   "mimetype": "text/x-python",
   "name": "python",
   "nbconvert_exporter": "python",
   "pygments_lexer": "ipython3",
   "version": "3.7.3"
  }
 },
 "nbformat": 4,
 "nbformat_minor": 2
}
